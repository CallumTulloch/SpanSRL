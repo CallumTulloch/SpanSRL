{
 "cells": [
  {
   "cell_type": "code",
   "execution_count": 3,
   "metadata": {},
   "outputs": [
    {
     "data": {
      "text/plain": [
       "0.8"
      ]
     },
     "execution_count": 3,
     "metadata": {},
     "output_type": "execute_result"
    }
   ],
   "source": [
    "from seqeval.metrics import accuracy_score\n",
    "from seqeval.metrics import classification_report\n",
    "from seqeval.metrics import f1_score\n",
    "y_true = [['O', 'O', 'O', 'B-MISC', 'I-MISC', 'I-MISC', 'O'], ['B-PER', 'I-PER', 'O']]\n",
    "y_pred = [['O', 'O', 'B-MISC', 'I-MISC', 'I-MISC', 'I-MISC', 'O'], ['B-PER', 'I-PER', 'O']]\n",
    "f1_score(y_true, y_pred)\n",
    "accuracy_score(y_true, y_pred)"
   ]
  },
  {
   "cell_type": "code",
   "execution_count": 4,
   "metadata": {},
   "outputs": [
    {
     "data": {
      "text/plain": [
       "'              precision    recall  f1-score   support\\n\\n      B-MISC       0.00      0.00      0.00         1\\n       B-PER       1.00      1.00      1.00         1\\n      I-MISC       0.67      1.00      0.80         2\\n       I-PER       1.00      1.00      1.00         1\\n           O       1.00      0.80      0.89         5\\n\\n    accuracy                           0.80        10\\n   macro avg       0.73      0.76      0.74        10\\nweighted avg       0.83      0.80      0.80        10\\n'"
      ]
     },
     "execution_count": 4,
     "metadata": {},
     "output_type": "execute_result"
    }
   ],
   "source": [
    "from sklearn.metrics import classification_report\n",
    "y_true = ['O', 'O', 'O', 'B-MISC', 'I-MISC', 'I-MISC', 'O','B-PER', 'I-PER', 'O']\n",
    "y_pred = ['O', 'O', 'B-MISC', 'I-MISC', 'I-MISC', 'I-MISC', 'O','B-PER', 'I-PER', 'O']\n",
    "classification_report(y_true, y_pred)"
   ]
  },
  {
   "cell_type": "code",
   "execution_count": 5,
   "metadata": {},
   "outputs": [
    {
     "name": "stdout",
     "output_type": "stream",
     "text": [
      "              precision    recall  f1-score   support\n",
      "\n",
      "      B-MISC       0.00      0.00      0.00         1\n",
      "       B-PER       1.00      1.00      1.00         1\n",
      "      I-MISC       0.67      1.00      0.80         2\n",
      "       I-PER       1.00      1.00      1.00         1\n",
      "           O       1.00      0.80      0.89         5\n",
      "\n",
      "    accuracy                           0.80        10\n",
      "   macro avg       0.73      0.76      0.74        10\n",
      "weighted avg       0.83      0.80      0.80        10\n",
      "\n"
     ]
    }
   ],
   "source": [
    "print(classification_report(y_true, y_pred))"
   ]
  },
  {
   "cell_type": "code",
   "execution_count": 8,
   "metadata": {},
   "outputs": [
    {
     "name": "stdout",
     "output_type": "stream",
     "text": [
      "              precision    recall  f1-score   support\n",
      "\n",
      "         ANI       0.33      0.50      0.40         2\n",
      "        MISC       0.50      0.50      0.50         2\n",
      "         PER       0.50      1.00      0.67         1\n",
      "\n",
      "   micro avg       0.43      0.60      0.50         5\n",
      "   macro avg       0.44      0.67      0.52         5\n",
      "weighted avg       0.43      0.60      0.49         5\n",
      "\n"
     ]
    },
    {
     "data": {
      "text/plain": [
       "0.5"
      ]
     },
     "execution_count": 8,
     "metadata": {},
     "output_type": "execute_result"
    }
   ],
   "source": [
    "from seqeval.metrics import accuracy_score\n",
    "from seqeval.metrics import classification_report\n",
    "from seqeval.metrics import f1_score\n",
    "y_true = [['B-MISC', 'O', 'O',      'B-MISC', 'I-MISC', 'I-MISC', 'O'],     ['B-PER', 'I-PER', 'B-ANI'], ['O',        'O', 'B-ANI', 'I-ANI']]\n",
    "y_pred = [['B-MISC', 'O', 'B-MISC', 'I-MISC', 'I-MISC', 'I-MISC', 'B-ANI'], ['B-PER', 'I-PER', 'B-ANI'], ['B-ANI', 'I-ANI','B-PER', 'I-PER']]\n",
    "print(classification_report(y_true, y_pred))\n",
    "accuracy_score(y_true, y_pred)"
   ]
  },
  {
   "cell_type": "code",
   "execution_count": 10,
   "metadata": {},
   "outputs": [
    {
     "name": "stdout",
     "output_type": "stream",
     "text": [
      "              precision    recall  f1-score   support\n",
      "\n",
      "           a       0.50      0.33      0.40         3\n",
      "\n",
      "   micro avg       0.50      0.33      0.40         3\n",
      "   macro avg       0.50      0.33      0.40         3\n",
      "weighted avg       0.50      0.33      0.40         3\n",
      "\n",
      "              precision    recall  f1-score   support\n",
      "\n",
      "           a       0.00      0.00      0.00         3\n",
      "\n",
      "   micro avg       0.00      0.00      0.00         3\n",
      "   macro avg       0.00      0.00      0.00         3\n",
      "weighted avg       0.00      0.00      0.00         3\n",
      "\n"
     ]
    },
    {
     "data": {
      "text/plain": [
       "0.7142857142857143"
      ]
     },
     "execution_count": 10,
     "metadata": {},
     "output_type": "execute_result"
    }
   ],
   "source": [
    "from seqeval.metrics import accuracy_score\n",
    "from seqeval.metrics import classification_report\n",
    "from seqeval.metrics import f1_score\n",
    "y_true = [['B-a', 'O', 'B-a', 'I-a', 'B-a', 'I-a', 'O']]\n",
    "y_pred = [['I-a', 'O', 'B-a', 'I-a', 'I-a', 'I-a', 'O']]\n",
    "print(classification_report(y_true, y_pred, mode='None'))\n",
    "print(classification_report(y_true, y_pred, mode='strict'))\n",
    "accuracy_score(y_true, y_pred)"
   ]
  },
  {
   "cell_type": "code",
   "execution_count": null,
   "metadata": {},
   "outputs": [],
   "source": []
  }
 ],
 "metadata": {
  "kernelspec": {
   "display_name": "base",
   "language": "python",
   "name": "python3"
  },
  "language_info": {
   "codemirror_mode": {
    "name": "ipython",
    "version": 3
   },
   "file_extension": ".py",
   "mimetype": "text/x-python",
   "name": "python",
   "nbconvert_exporter": "python",
   "pygments_lexer": "ipython3",
   "version": "3.8.8"
  },
  "orig_nbformat": 4,
  "vscode": {
   "interpreter": {
    "hash": "370af53f32f8c2c8294a0a6c6bcb742e41bf8636d19d5d4d9d243022576e0853"
   }
  }
 },
 "nbformat": 4,
 "nbformat_minor": 2
}
