{
 "cells": [
  {
   "cell_type": "code",
   "execution_count": 18,
   "metadata": {},
   "outputs": [],
   "source": [
    "import pandas as pd\n",
    "import json\n",
    "\n",
    "with open('../Data/Original/data_v2_absid.json', 'r', encoding=\"utf-8_sig\") as json_file:\n",
    "    df1 = pd.read_json(json_file)\n",
    "df2 = pd.read_json('../Data/Original/data_rinna_absid.json')\n",
    "# \"inner\" joinは、両方のデータフレームに存在するキー（ここでは 'abs_id'）に基づいて結合します\n",
    "# 'abs_id' を共有する行のみを抽出\n",
    "common_abs_ids = set(df1['abs_id']).intersection(set(df2['abs_id']))\n",
    "\n",
    "# 共通の 'abs_id' を持つ行だけを含むように各データフレームをフィルタリング\n",
    "common_df1 = df1[df1['abs_id'].isin(common_abs_ids)]\n",
    "common_df2 = df2[df2['abs_id'].isin(common_abs_ids)]\n"
   ]
  },
  {
   "cell_type": "code",
   "execution_count": 19,
   "metadata": {},
   "outputs": [
    {
     "name": "stdout",
     "output_type": "stream",
     "text": [
      "52528\n",
      "52528\n"
     ]
    }
   ],
   "source": [
    "print(len(common_df1))\n",
    "print(len(common_df2))"
   ]
  },
  {
   "cell_type": "code",
   "execution_count": 20,
   "metadata": {},
   "outputs": [],
   "source": [
    "# First, we'll reduce df1 and df2 to only rows with abs_id shared by both\n",
    "df1 = df1[df1['abs_id'].isin(df2['abs_id'])]\n",
    "df2 = df2[df2['abs_id'].isin(df1['abs_id'])]\n",
    "\n",
    "# Then we'll convert abs_id to a category data type in df1, ordered according to df2\n",
    "df1['abs_id'] = pd.Categorical(df1['abs_id'], categories=df2['abs_id'], ordered=True)\n",
    "\n",
    "# Finally, we sort df1 by the categorical abs_id\n",
    "df1_sorted = df1.sort_values('abs_id')\n",
    "\n",
    "# Reset the index\n",
    "df1_sorted = df1_sorted.reset_index(drop=True)\n"
   ]
  },
  {
   "cell_type": "code",
   "execution_count": 21,
   "metadata": {},
   "outputs": [],
   "source": [
    "# 変換\n",
    "df1_sorted.to_json(f\"../Data/common_data_v2_bert.json\",orient='records',force_ascii=False)\n",
    "common_df2.to_json(f\"../Data/common_data_v2_rinna.json\",orient='records',force_ascii=False)\n",
    "with open(f\"../Data/common_data_v2_bert.json\") as f:\n",
    "    data = json.load(f)\n",
    "with open(f\"../Data/common_data_v2_bert.json\", mode=\"w\") as f:\n",
    "    json.dump(data, f, indent=2, ensure_ascii=False)\n",
    "    \n",
    "with open(f\"../Data/common_data_v2_rinna.json\") as f:\n",
    "    data = json.load(f)\n",
    "with open(f\"../Data/common_data_v2_rinna.json\", mode=\"w\") as f:\n",
    "    json.dump(data, f, indent=2, ensure_ascii=False)"
   ]
  }
 ],
 "metadata": {
  "kernelspec": {
   "display_name": "Dev_srl-mFS1mltI",
   "language": "python",
   "name": "python3"
  },
  "language_info": {
   "codemirror_mode": {
    "name": "ipython",
    "version": 3
   },
   "file_extension": ".py",
   "mimetype": "text/x-python",
   "name": "python",
   "nbconvert_exporter": "python",
   "pygments_lexer": "ipython3",
   "version": "3.8.0"
  },
  "orig_nbformat": 4
 },
 "nbformat": 4,
 "nbformat_minor": 2
}
